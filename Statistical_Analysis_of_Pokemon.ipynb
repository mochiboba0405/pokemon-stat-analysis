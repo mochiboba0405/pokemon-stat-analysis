{
  "nbformat": 4,
  "nbformat_minor": 0,
  "metadata": {
    "colab": {
      "provenance": [],
      "include_colab_link": true
    },
    "kernelspec": {
      "name": "python3",
      "display_name": "Python 3"
    },
    "language_info": {
      "name": "python"
    }
  },
  "cells": [
    {
      "cell_type": "markdown",
      "metadata": {
        "id": "view-in-github",
        "colab_type": "text"
      },
      "source": [
        "<a href=\"https://colab.research.google.com/github/mochiboba0405/pokemon-stat-analysis/blob/main/Statistical_Analysis_of_Pokemon.ipynb\" target=\"_parent\"><img src=\"https://colab.research.google.com/assets/colab-badge.svg\" alt=\"Open In Colab\"/></a>"
      ]
    },
    {
      "cell_type": "markdown",
      "source": [
        "# **CS 22A PROJECT - STATISTICAL ANALYSIS OF POKÉMON**\n",
        "\n",
        "<font color=\"lavender\">**Team Members:</font>** Crystal Luong & Michelle Quach\n",
        "\n",
        "<font color=\"lavender\">**Last Updated:</font>** November 29th, 2022\n",
        "\n",
        "<img src=\"https://cdn.custom-cursor.com/collections/129/cover-pokemon-preview.png\" width=700>"
      ],
      "metadata": {
        "id": "pYW14S5ftM9r"
      }
    },
    {
      "cell_type": "markdown",
      "source": [
        "\n",
        "\n",
        "________\n",
        "# <font color=\"pink\"> **INTRODUCTION**:</font> The goal of this project is the statistical analysis of Pokémons and their characteristics in game. \n",
        "\n",
        "**1) Two Sample T-test:**\n",
        "\n",
        "The first hypothesis test is to determine if Pokémon fire and water types have the same attack damage. Pokémon’s attack information on the dataset provided is in relation to its base modifier/damage for their own normal attacks. A two-sample t-test was conducted in order to compare the means of each variable types; more specifically a two-tailed test as it helps show if one group is statistically lower or greater than the other group’s attack damage.  \n",
        "\n",
        "The *null* $H_o$ and *alternative* $H_A$ hypotheses are the following:\n",
        "\n",
        "- <font color=\"teal\">**Null $H_o$**</font>: Both fire and water pokémon types have the **same** mean attack damage.\n",
        "- <font color=\"teal\">**Alternative $H_A$</font>**:  Both fire and water pokémon types **differ** in mean attack damage.\n",
        "\n",
        "The code and data are visualized using histograms and two sample t-tests. From the t-statistic and p-value, it can be determined if the data is significant by an alpha value being less than 0.05. If the p-value is less than 0.05, then we can reject the null and see how the t-statistic surpasses the critical value in the negative or positive range.\n",
        "\n",
        "<img src=\"https://i.ytimg.com/vi/gwmdHQLTVps/maxresdefault.jpg\" width=400>\n",
        "\n",
        "**2) One-way ANOVA:**   \n",
        "The second hypothesis test is to determine if Type 2 Poison, Fairy, or Ghost have statistically same/different defense based on the given dataframe of Pokémons. The  one-way ANOVA test will be used to see if there is a difference somewhere between the three Type 2 Pokémons.\n",
        "- <font color=\"teal\">**Null $H_o$**</font>: Type 2 Poison, Fairy, and Ghost  Pokémons have the **same** mean defense.\n",
        "- <font color=\"teal\">**Alternative $H_A$</font>**: There is a **difference of mean defense somewhere** between Type 2 Poison, Fairy, and Ghost Pokémons.\n",
        "\n",
        "\n",
        "\n",
        "The code and data are visualized using bar plots, box and whiskers plot, and F-critical value . From the F-statistic and p-value, it can be determined if the data is significant by an alpha value being less than 0.05. If the p-value is less than 0.05, then we can reject the null and see how the F-statistic surpasses the critical value in the negative or positive range.\n",
        "\n",
        "<img src=\"https://i.pinimg.com/originals/77/58/f5/7758f51b4b68401c64d3402d1464902d.jpg\" width=400>\n",
        "\n",
        "**3) Correlation:**   \n",
        "The third hypothesis test is to determine if Speed Attack and Speed Defense are correlated with each other based on the given dataframe of Pokémons. The correlation test will be used to see if there is relationship between the two numeric variables of speed attack and speed defense.\n",
        "- <font color=\"teal\">**Null $H_o$**</font>: Speed attack and speed defense for all Pokémons **do not correlate**.\n",
        "- <font color=\"teal\">**Alternative $H_A$</font>**: Speed attack and speed defense for all Pokémons **do correlate**.\n",
        "\n",
        "\n",
        "\n",
        "The code and data are visualized using a scatter plot to show the relationship between speed attack and speed defense. The F-critical value. From the \"r\" value and and p-value, it can be determined if the data is significant by an alpha value being less than 0.05 and the Pearson correlation coefficient. If the p-value is less than 0.05, then we can reject the null and see how the \"r\" value has a negative or positive correlation.\n",
        "\n",
        "\n",
        "<img src=\"https://i.pinimg.com/originals/80/7a/97/807a97aba060039b57928c39774e1c0d.jpg\" width=400>\n",
        "\n"
      ],
      "metadata": {
        "id": "nUD9lefsviGk"
      }
    },
    {
      "cell_type": "markdown",
      "source": [
        "\n",
        "\n",
        "________\n",
        "# <font color=\"pink\"> **DATA**:</font>"
      ],
      "metadata": {
        "id": "L7NgCMASyAUN"
      }
    },
    {
      "cell_type": "markdown",
      "source": [
        " **1) Two Sample T-test Data**"
      ],
      "metadata": {
        "id": "Gf-I_CdQndMb"
      }
    },
    {
      "cell_type": "code",
      "source": [
        "# Import Pandas Dataframe of the Pokémon Stats Provided\n",
        "import pandas as pd\n",
        "\n",
        "data_url = 'https://raw.githubusercontent.com/csbfx/advpy122-data/master/Pokemon.csv'\n",
        "poke_df = pd.read_csv(data_url)\n",
        "poke_df.head()"
      ],
      "metadata": {
        "colab": {
          "base_uri": "https://localhost:8080/",
          "height": 285
        },
        "id": "NUK1GZXLyOy7",
        "outputId": "75777cb1-c8c2-435c-bd68-057e59baf930"
      },
      "execution_count": null,
      "outputs": [
        {
          "output_type": "execute_result",
          "data": {
            "text/plain": [
              "   #                   Name Type 1  Type 2  Total  HP  Attack  Defense  \\\n",
              "0  1              Bulbasaur  Grass  Poison    318  45      49       49   \n",
              "1  2                Ivysaur  Grass  Poison    405  60      62       63   \n",
              "2  3               Venusaur  Grass  Poison    525  80      82       83   \n",
              "3  3  VenusaurMega Venusaur  Grass  Poison    625  80     100      123   \n",
              "4  4             Charmander   Fire     NaN    309  39      52       43   \n",
              "\n",
              "   Sp. Atk  Sp. Def  Speed  Generation  Legendary  \n",
              "0       65       65     45           1      False  \n",
              "1       80       80     60           1      False  \n",
              "2      100      100     80           1      False  \n",
              "3      122      120     80           1      False  \n",
              "4       60       50     65           1      False  "
            ],
            "text/html": [
              "\n",
              "  <div id=\"df-2ff5e539-e543-473e-91c1-6766c08af4de\">\n",
              "    <div class=\"colab-df-container\">\n",
              "      <div>\n",
              "<style scoped>\n",
              "    .dataframe tbody tr th:only-of-type {\n",
              "        vertical-align: middle;\n",
              "    }\n",
              "\n",
              "    .dataframe tbody tr th {\n",
              "        vertical-align: top;\n",
              "    }\n",
              "\n",
              "    .dataframe thead th {\n",
              "        text-align: right;\n",
              "    }\n",
              "</style>\n",
              "<table border=\"1\" class=\"dataframe\">\n",
              "  <thead>\n",
              "    <tr style=\"text-align: right;\">\n",
              "      <th></th>\n",
              "      <th>#</th>\n",
              "      <th>Name</th>\n",
              "      <th>Type 1</th>\n",
              "      <th>Type 2</th>\n",
              "      <th>Total</th>\n",
              "      <th>HP</th>\n",
              "      <th>Attack</th>\n",
              "      <th>Defense</th>\n",
              "      <th>Sp. Atk</th>\n",
              "      <th>Sp. Def</th>\n",
              "      <th>Speed</th>\n",
              "      <th>Generation</th>\n",
              "      <th>Legendary</th>\n",
              "    </tr>\n",
              "  </thead>\n",
              "  <tbody>\n",
              "    <tr>\n",
              "      <th>0</th>\n",
              "      <td>1</td>\n",
              "      <td>Bulbasaur</td>\n",
              "      <td>Grass</td>\n",
              "      <td>Poison</td>\n",
              "      <td>318</td>\n",
              "      <td>45</td>\n",
              "      <td>49</td>\n",
              "      <td>49</td>\n",
              "      <td>65</td>\n",
              "      <td>65</td>\n",
              "      <td>45</td>\n",
              "      <td>1</td>\n",
              "      <td>False</td>\n",
              "    </tr>\n",
              "    <tr>\n",
              "      <th>1</th>\n",
              "      <td>2</td>\n",
              "      <td>Ivysaur</td>\n",
              "      <td>Grass</td>\n",
              "      <td>Poison</td>\n",
              "      <td>405</td>\n",
              "      <td>60</td>\n",
              "      <td>62</td>\n",
              "      <td>63</td>\n",
              "      <td>80</td>\n",
              "      <td>80</td>\n",
              "      <td>60</td>\n",
              "      <td>1</td>\n",
              "      <td>False</td>\n",
              "    </tr>\n",
              "    <tr>\n",
              "      <th>2</th>\n",
              "      <td>3</td>\n",
              "      <td>Venusaur</td>\n",
              "      <td>Grass</td>\n",
              "      <td>Poison</td>\n",
              "      <td>525</td>\n",
              "      <td>80</td>\n",
              "      <td>82</td>\n",
              "      <td>83</td>\n",
              "      <td>100</td>\n",
              "      <td>100</td>\n",
              "      <td>80</td>\n",
              "      <td>1</td>\n",
              "      <td>False</td>\n",
              "    </tr>\n",
              "    <tr>\n",
              "      <th>3</th>\n",
              "      <td>3</td>\n",
              "      <td>VenusaurMega Venusaur</td>\n",
              "      <td>Grass</td>\n",
              "      <td>Poison</td>\n",
              "      <td>625</td>\n",
              "      <td>80</td>\n",
              "      <td>100</td>\n",
              "      <td>123</td>\n",
              "      <td>122</td>\n",
              "      <td>120</td>\n",
              "      <td>80</td>\n",
              "      <td>1</td>\n",
              "      <td>False</td>\n",
              "    </tr>\n",
              "    <tr>\n",
              "      <th>4</th>\n",
              "      <td>4</td>\n",
              "      <td>Charmander</td>\n",
              "      <td>Fire</td>\n",
              "      <td>NaN</td>\n",
              "      <td>309</td>\n",
              "      <td>39</td>\n",
              "      <td>52</td>\n",
              "      <td>43</td>\n",
              "      <td>60</td>\n",
              "      <td>50</td>\n",
              "      <td>65</td>\n",
              "      <td>1</td>\n",
              "      <td>False</td>\n",
              "    </tr>\n",
              "  </tbody>\n",
              "</table>\n",
              "</div>\n",
              "      <button class=\"colab-df-convert\" onclick=\"convertToInteractive('df-2ff5e539-e543-473e-91c1-6766c08af4de')\"\n",
              "              title=\"Convert this dataframe to an interactive table.\"\n",
              "              style=\"display:none;\">\n",
              "        \n",
              "  <svg xmlns=\"http://www.w3.org/2000/svg\" height=\"24px\"viewBox=\"0 0 24 24\"\n",
              "       width=\"24px\">\n",
              "    <path d=\"M0 0h24v24H0V0z\" fill=\"none\"/>\n",
              "    <path d=\"M18.56 5.44l.94 2.06.94-2.06 2.06-.94-2.06-.94-.94-2.06-.94 2.06-2.06.94zm-11 1L8.5 8.5l.94-2.06 2.06-.94-2.06-.94L8.5 2.5l-.94 2.06-2.06.94zm10 10l.94 2.06.94-2.06 2.06-.94-2.06-.94-.94-2.06-.94 2.06-2.06.94z\"/><path d=\"M17.41 7.96l-1.37-1.37c-.4-.4-.92-.59-1.43-.59-.52 0-1.04.2-1.43.59L10.3 9.45l-7.72 7.72c-.78.78-.78 2.05 0 2.83L4 21.41c.39.39.9.59 1.41.59.51 0 1.02-.2 1.41-.59l7.78-7.78 2.81-2.81c.8-.78.8-2.07 0-2.86zM5.41 20L4 18.59l7.72-7.72 1.47 1.35L5.41 20z\"/>\n",
              "  </svg>\n",
              "      </button>\n",
              "      \n",
              "  <style>\n",
              "    .colab-df-container {\n",
              "      display:flex;\n",
              "      flex-wrap:wrap;\n",
              "      gap: 12px;\n",
              "    }\n",
              "\n",
              "    .colab-df-convert {\n",
              "      background-color: #E8F0FE;\n",
              "      border: none;\n",
              "      border-radius: 50%;\n",
              "      cursor: pointer;\n",
              "      display: none;\n",
              "      fill: #1967D2;\n",
              "      height: 32px;\n",
              "      padding: 0 0 0 0;\n",
              "      width: 32px;\n",
              "    }\n",
              "\n",
              "    .colab-df-convert:hover {\n",
              "      background-color: #E2EBFA;\n",
              "      box-shadow: 0px 1px 2px rgba(60, 64, 67, 0.3), 0px 1px 3px 1px rgba(60, 64, 67, 0.15);\n",
              "      fill: #174EA6;\n",
              "    }\n",
              "\n",
              "    [theme=dark] .colab-df-convert {\n",
              "      background-color: #3B4455;\n",
              "      fill: #D2E3FC;\n",
              "    }\n",
              "\n",
              "    [theme=dark] .colab-df-convert:hover {\n",
              "      background-color: #434B5C;\n",
              "      box-shadow: 0px 1px 3px 1px rgba(0, 0, 0, 0.15);\n",
              "      filter: drop-shadow(0px 1px 2px rgba(0, 0, 0, 0.3));\n",
              "      fill: #FFFFFF;\n",
              "    }\n",
              "  </style>\n",
              "\n",
              "      <script>\n",
              "        const buttonEl =\n",
              "          document.querySelector('#df-2ff5e539-e543-473e-91c1-6766c08af4de button.colab-df-convert');\n",
              "        buttonEl.style.display =\n",
              "          google.colab.kernel.accessAllowed ? 'block' : 'none';\n",
              "\n",
              "        async function convertToInteractive(key) {\n",
              "          const element = document.querySelector('#df-2ff5e539-e543-473e-91c1-6766c08af4de');\n",
              "          const dataTable =\n",
              "            await google.colab.kernel.invokeFunction('convertToInteractive',\n",
              "                                                     [key], {});\n",
              "          if (!dataTable) return;\n",
              "\n",
              "          const docLinkHtml = 'Like what you see? Visit the ' +\n",
              "            '<a target=\"_blank\" href=https://colab.research.google.com/notebooks/data_table.ipynb>data table notebook</a>'\n",
              "            + ' to learn more about interactive tables.';\n",
              "          element.innerHTML = '';\n",
              "          dataTable['output_type'] = 'display_data';\n",
              "          await google.colab.output.renderOutput(dataTable, element);\n",
              "          const docLink = document.createElement('div');\n",
              "          docLink.innerHTML = docLinkHtml;\n",
              "          element.appendChild(docLink);\n",
              "        }\n",
              "      </script>\n",
              "    </div>\n",
              "  </div>\n",
              "  "
            ]
          },
          "metadata": {},
          "execution_count": 2
        }
      ]
    },
    {
      "cell_type": "code",
      "source": [
        "poke_df.columns\n",
        "# Use Type 1 and Attack for Two Sample T-test\n",
        "# Use Type 2 and Defense for One-way ANOVA\n",
        "# Use Sp. Atk and Sp. Def for Correlation"
      ],
      "metadata": {
        "colab": {
          "base_uri": "https://localhost:8080/"
        },
        "id": "7D-G79kb0eF5",
        "outputId": "afbd5a93-6b34-4d54-86ba-42d8076ee627"
      },
      "execution_count": null,
      "outputs": [
        {
          "output_type": "execute_result",
          "data": {
            "text/plain": [
              "Index(['#', 'Name', 'Type 1', 'Type 2', 'Total', 'HP', 'Attack', 'Defense',\n",
              "       'Sp. Atk', 'Sp. Def', 'Speed', 'Generation', 'Legendary'],\n",
              "      dtype='object')"
            ]
          },
          "metadata": {},
          "execution_count": 3
        }
      ]
    },
    {
      "cell_type": "markdown",
      "source": [
        "# <font color=\"pink\"> **Results of Two Sample T-test**:</font>"
      ],
      "metadata": {
        "id": "YJtgDBTP3Ozl"
      }
    },
    {
      "cell_type": "code",
      "source": [
        "from scipy.stats import ttest_ind\n",
        "\n",
        "fire_pok = poke_df[poke_df['Type 1'] == 'Fire']\n",
        "water_pok = poke_df[poke_df['Type 1'] == 'Water']\n",
        "t_test = ttest_ind(water_pok['Attack'], fire_pok['Attack'])\n",
        "# p-value:\n",
        "print(f\"P-Value: {round(t_test.pvalue,2)}\")\n",
        "# t-statistic:\n",
        "print(f\"T-Statistic:  {round(t_test.statistic,2)}\")"
      ],
      "metadata": {
        "colab": {
          "base_uri": "https://localhost:8080/"
        },
        "id": "R-hud6KZ0qMx",
        "outputId": "4aa6a70b-0a7e-4e6f-e3dc-45eaf8c705cc"
      },
      "execution_count": null,
      "outputs": [
        {
          "output_type": "stream",
          "name": "stdout",
          "text": [
            "P-Value: 0.03\n",
            "T-Statistic:  -2.22\n"
          ]
        }
      ]
    },
    {
      "cell_type": "code",
      "source": [
        "fire_mean = fire_pok.Attack.mean()\n",
        "print(f'The mean attack damage of Type 1 Fire Pokémon is {round(fire_mean,2)}')\n",
        "\n",
        "water_mean = water_pok.Attack.mean()\n",
        "print(f'The mean attack damage of Type 1 Water Pokémon is {round(water_mean,2)}')"
      ],
      "metadata": {
        "colab": {
          "base_uri": "https://localhost:8080/"
        },
        "id": "5vB6XRd-vDBW",
        "outputId": "233e8868-ea76-434c-c786-6d366d0e37ad"
      },
      "execution_count": null,
      "outputs": [
        {
          "output_type": "stream",
          "name": "stdout",
          "text": [
            "The mean attack damage of Type 1 Fire Pokémon is 84.77\n",
            "The mean attack damage of Type 1 Water Pokémon is 74.15\n"
          ]
        }
      ]
    },
    {
      "cell_type": "code",
      "source": [
        "df = len(fire_pok) + len(water_pok) - 2\n",
        "print(f'The degree of freedom is {df}.')"
      ],
      "metadata": {
        "colab": {
          "base_uri": "https://localhost:8080/"
        },
        "id": "l_FTNsoewN97",
        "outputId": "a5c97d46-108d-46ce-b7a1-23d84141579f"
      },
      "execution_count": null,
      "outputs": [
        {
          "output_type": "stream",
          "name": "stdout",
          "text": [
            "The degree of freedom is 162.\n"
          ]
        }
      ]
    },
    {
      "cell_type": "code",
      "source": [
        "# The Welch's test - does not assume that the two pokemon types that the samples came from have equal variance\n",
        "welch_t = ttest_ind(water_pok['Attack'], fire_pok['Attack'], equal_var = False)\n",
        "\n",
        "# p-value:\n",
        "print(f\"P-Value: {round(welch_t.pvalue,2)}\")\n",
        "\n",
        "# t-statistic:\n",
        "print(f\"T-Statistic:  {round(welch_t.statistic,2)}\")\n",
        "\n",
        "# The p-value is less than 0.05 ; therefore, we reject the null hypothesis of Welch’s t-test and the attack damages do differ in type 1 water and fire Pokémons."
      ],
      "metadata": {
        "colab": {
          "base_uri": "https://localhost:8080/"
        },
        "id": "pcgmDgFv04xA",
        "outputId": "7f6be1f4-fdaf-47b1-ea8b-9daedebb6c1a"
      },
      "execution_count": null,
      "outputs": [
        {
          "output_type": "stream",
          "name": "stdout",
          "text": [
            "P-Value: 0.03\n",
            "T-Statistic:  -2.21\n"
          ]
        }
      ]
    },
    {
      "cell_type": "markdown",
      "source": [
        "#<font color=\"pink\">**Conclusions:**</font>\n",
        "The p-value is less than 0.05, we have sufficient evidence to  reject the null hypothesis of two-sample t-test and conclude that there is sufficient evidence to say that the Type 1 Fire and Water Pokémons differ in attack damage means. Water Pokémons do less damage than Fire types Pokémons."
      ],
      "metadata": {
        "id": "1jYALH25viVx"
      }
    },
    {
      "cell_type": "markdown",
      "source": [
        "**2) One-way ANOVA**"
      ],
      "metadata": {
        "id": "IabYCpBqnkGR"
      }
    },
    {
      "cell_type": "code",
      "source": [
        "fairy = poke_df[poke_df['Type 2'] == 'Fairy']\n",
        "poison = poke_df[poke_df['Type 2'] == 'Poison']\n",
        "ghost = poke_df[poke_df['Type 2'] == 'Ghost']\n",
        "\n",
        "f_mean =  fairy.Defense.mean()\n",
        "p_mean = poison.Defense.mean()\n",
        "g_mean =  ghost.Defense.mean()\n",
        "\n",
        "f_n = fairy['Defense'].count()\n",
        "p_n = poison['Defense'].count()\n",
        "g_n = ghost['Defense'].count()\n",
        "print(f'Sample sizes {g_n, p_n, f_n}') # all different sample sizes\n",
        "\n",
        "grand_mean = ((fairy['Defense'].sum() + poison['Defense'].sum() + ghost['Defense'].sum()) / (f_n + p_n + g_n))\n",
        "\n",
        "print(f\"Fairy Defense mean: {round(f_mean, 2)}\")\n",
        "print(f\"Poison Defense mean: {round(p_mean, 2)}\")\n",
        "print(f\"Ghost Defense mean: {round(g_mean, 2)}\")\n",
        "print(f\"Grand mean: {round(grand_mean, 2)}\")"
      ],
      "metadata": {
        "colab": {
          "base_uri": "https://localhost:8080/"
        },
        "id": "DpE_sIubnmsg",
        "outputId": "0ba97065-de78-4b23-96c3-a039d2e4c1de"
      },
      "execution_count": null,
      "outputs": [
        {
          "output_type": "stream",
          "name": "stdout",
          "text": [
            "Sample sizes (14, 34, 23)\n",
            "Fairy Defense mean: 73.87\n",
            "Poison Defense mean: 59.56\n",
            "Ghost Defense mean: 82.29\n",
            "Grand mean: 68.68\n"
          ]
        }
      ]
    },
    {
      "cell_type": "markdown",
      "source": [
        "Sum of Squares between Different Sample Size Groups:   \n",
        "$\\large SS_{between}$ = $\\large \\sum{n_k (\\bar{x}_k - \\bar{x}_G})^2$  "
      ],
      "metadata": {
        "id": "SccIK4DFqUMe"
      }
    },
    {
      "cell_type": "code",
      "source": [
        "def squared_dev(values_list, mean):\n",
        "  \"\"\" Function computes squared deviations from Pokémons means and grand mean \"\"\"\n",
        "  sq_dev = []\n",
        "  for xi in values_list:\n",
        "    sq_dev.append((xi - mean)**2)\n",
        "  return sq_dev\n",
        "\n",
        "xk = [f_mean, p_mean, g_mean]\n",
        "nk = [f_n, p_n, g_n]\n",
        "sq_dev = squared_dev(xk, grand_mean)\n",
        "temp = []\n",
        "for i in range(len(nk)): # i = 0,1,2,3\n",
        "  temp.append(sq_dev[i]*nk[i])\n",
        "\n",
        "ss_between = sum(temp)\n",
        "print(f\"SS_between: {ss_between}\")"
      ],
      "metadata": {
        "colab": {
          "base_uri": "https://localhost:8080/"
        },
        "id": "zbZYL4jDqaYs",
        "outputId": "af8f6252-7df9-4dad-f3cd-cb26222663ff"
      },
      "execution_count": null,
      "outputs": [
        {
          "output_type": "stream",
          "name": "stdout",
          "text": [
            "SS_between: 6039.701104324153\n"
          ]
        }
      ]
    },
    {
      "cell_type": "markdown",
      "source": [
        "Sum of Squares for Within Groups:\n",
        "\n",
        "$\\large SS_{within}$ = $\\Large \\sum(x_i - \\bar{x}_k)^2$  "
      ],
      "metadata": {
        "id": "vlpCavGVrEKR"
      }
    },
    {
      "cell_type": "code",
      "source": [
        "f_sq_dev = squared_dev(fairy.Defense.dropna(), f_mean)\n",
        "p_sq_dev = squared_dev(poison.Defense.dropna(), p_mean)\n",
        "g_sq_dev = squared_dev(ghost.Defense.dropna(), g_mean)\n",
        "\n",
        "ss_within = sum(f_sq_dev) + sum(p_sq_dev) + sum(g_sq_dev)\n",
        "print(f\"SS_within: {ss_within}\")"
      ],
      "metadata": {
        "colab": {
          "base_uri": "https://localhost:8080/"
        },
        "id": "qc5dbKI9q-8p",
        "outputId": "ba64161d-5369-4190-ebf6-274e602fca10"
      },
      "execution_count": null,
      "outputs": [
        {
          "output_type": "stream",
          "name": "stdout",
          "text": [
            "SS_within: 65771.8481914505\n"
          ]
        }
      ]
    },
    {
      "cell_type": "markdown",
      "source": [
        "Degrees of Freedom for between groups and the degrees of freedom for within groups:  \n",
        "$\\large df_{between}$ = $\\large k-1$\n",
        "\n",
        "$\\large df_{within}$ = $\\large N-k$"
      ],
      "metadata": {
        "id": "z-uYKBhCrlII"
      }
    },
    {
      "cell_type": "code",
      "source": [
        "k = 3\n",
        "df_between = k - 1\n",
        "\n",
        "N = (len(fairy.Defense) + len(ghost.Defense) + len(poison.Defense))\n",
        "df_within = N - k\n",
        "\n",
        "print(f\"df_between: {df_between}\")\n",
        "print(f\"df_within: {df_within}\")"
      ],
      "metadata": {
        "colab": {
          "base_uri": "https://localhost:8080/"
        },
        "id": "P1KfYGmqq9OQ",
        "outputId": "4e16f876-b114-4eb4-b254-276261e62466"
      },
      "execution_count": null,
      "outputs": [
        {
          "output_type": "stream",
          "name": "stdout",
          "text": [
            "df_between: 2\n",
            "df_within: 68\n"
          ]
        }
      ]
    },
    {
      "cell_type": "markdown",
      "source": [
        "$\\large SS_{between} / df_{between}$ = $\\large MS_{between}$  \n",
        "\n",
        "<br>\n",
        "\n",
        "$\\large SS_{within} / df_{within}$ = $\\large MS_{within}$ "
      ],
      "metadata": {
        "id": "839uA5Utr_lk"
      }
    },
    {
      "cell_type": "code",
      "source": [
        "ms_between = ss_between / df_between\n",
        "ms_within = ss_within / df_within\n",
        "\n",
        "\n",
        "print(f\"MS_between: {ms_between}\")\n",
        "print(f\"MS_within: {ms_within}\")"
      ],
      "metadata": {
        "colab": {
          "base_uri": "https://localhost:8080/"
        },
        "id": "xIOHh5CFsDYK",
        "outputId": "203ea77e-9840-454b-d809-1c50c0ad5f99"
      },
      "execution_count": null,
      "outputs": [
        {
          "output_type": "stream",
          "name": "stdout",
          "text": [
            "MS_between: 3019.8505521620764\n",
            "MS_within: 967.2330616389779\n"
          ]
        }
      ]
    },
    {
      "cell_type": "markdown",
      "source": [
        "$F$ = $\\Large\\frac{MS_{between}}{MS_{within}}$ "
      ],
      "metadata": {
        "id": "ualldTbvr6Jb"
      }
    },
    {
      "cell_type": "markdown",
      "source": [
        "#<font color=\"pink\">**Results of One-Way ANOVA**</font>"
      ],
      "metadata": {
        "id": "IZMgykBh4Lgv"
      }
    },
    {
      "cell_type": "code",
      "source": [
        "F = ms_between / ms_within\n",
        "print(f\"F-statistic: {F}\")"
      ],
      "metadata": {
        "colab": {
          "base_uri": "https://localhost:8080/"
        },
        "id": "2G7AwhFdr3rK",
        "outputId": "138c13eb-89da-4182-d29f-f3e2c214b312"
      },
      "execution_count": null,
      "outputs": [
        {
          "output_type": "stream",
          "name": "stdout",
          "text": [
            "F-statistic: 3.1221539791505215\n"
          ]
        }
      ]
    },
    {
      "cell_type": "code",
      "source": [
        "F_crit = 3.13\n",
        "if F > F_crit:\n",
        "  print('Reject the null')\n",
        "else:\n",
        "  print('Retain the null')\n",
        "# The null hypothesis was not rejected according to the F critical value found in https://www.stat.purdue.edu/~lfindsen/stat511/F_alpha_05.pdf. \n",
        "# There was not sufficient evidence to say that all three type 2 Pokémons do differ in defense."
      ],
      "metadata": {
        "colab": {
          "base_uri": "https://localhost:8080/"
        },
        "id": "V27S2E8lsH5n",
        "outputId": "8a5bd4e0-5cfb-4ebe-b928-b4c7b139454f"
      },
      "execution_count": null,
      "outputs": [
        {
          "output_type": "stream",
          "name": "stdout",
          "text": [
            "Retain the null\n"
          ]
        }
      ]
    },
    {
      "cell_type": "markdown",
      "source": [
        "# <font color=\"pink\"> **Conclusion**:</font>\n",
        "The mean defense points between Type 2 Fairy, Poison, and Ghost Pokémon Types do not differ. The F-value is lower than the F-critical value region, suggesting that there is not enough evidence to reject the null; therefore, the mean defense in the three Pokémon Types are the same."
      ],
      "metadata": {
        "id": "hHphHpM6skJc"
      }
    },
    {
      "cell_type": "markdown",
      "source": [
        "**3) Correlation** "
      ],
      "metadata": {
        "id": "vhcvFY-l0puk"
      }
    },
    {
      "cell_type": "markdown",
      "source": [
        "# <font color=\"pink\"> **Results of Correlation**:</font>"
      ],
      "metadata": {
        "id": "xC7XOwJF4139"
      }
    },
    {
      "cell_type": "code",
      "source": [
        "from scipy import stats\n",
        "pearson_corr, p_value = stats.pearsonr(poke_df['Sp. Atk'], poke_df['Sp. Def']) \n",
        "print(f'Pearson correlation between Speed Attack and Speed Defense is {round(pearson_corr,3)}')\n",
        "print(f'The p-value is {p_value}')"
      ],
      "metadata": {
        "colab": {
          "base_uri": "https://localhost:8080/"
        },
        "id": "bQLPX2r-2BAY",
        "outputId": "9483737f-0266-4850-9b18-6d9fd9552855"
      },
      "execution_count": null,
      "outputs": [
        {
          "output_type": "stream",
          "name": "stdout",
          "text": [
            "Pearson correlation between Speed Attack and Speed Defense is 0.506\n",
            "The p-value is 2.921295496747071e-53\n"
          ]
        }
      ]
    },
    {
      "cell_type": "code",
      "source": [
        "import numpy as np\n",
        "x = poke_df['Sp. Atk']\n",
        "y = poke_df['Sp. Def']\n",
        "def pearsonr_ci(x, y, alpha=0.05):\n",
        "    ''' Function computes Pearson correlation along with the confidence interval '''\n",
        "    r, p = stats.pearsonr(x,y) # find the Pearson correlation coeffient and the p_value\n",
        "    r_z = np.arctanh(r) # convert r value to z_score\n",
        "    se = 1/np.sqrt(len(x)-3) # find the standard error\n",
        "    z = stats.norm.ppf(1-alpha/2) # find the critical z-value for the alpha level\n",
        "    lo_z, hi_z = r_z-z*se, r_z+z*se # calculate the confidience interval with the z_score\n",
        "    lo, hi = np.tanh((lo_z, hi_z)) # convert the z_score confidence interval based on the r value. \n",
        "    return lo, hi # return the confidience interval low and high values.\n",
        "CI_lo, CI_hi = pearsonr_ci(x, y)\n",
        "print(f'The confidence interval of the Pearson correlation coefficient is ({round(CI_lo,4)}, {round(CI_hi,4)}).')\n",
        "\n",
        "# print(f'The confidence interval of the Pearson correlation coefficient is ({round(CI_lo,4)}, {round(CI_hi,4)}).')"
      ],
      "metadata": {
        "colab": {
          "base_uri": "https://localhost:8080/"
        },
        "id": "urYhKIPa2LMi",
        "outputId": "5cc87747-6d5c-43a1-f8bd-5c488610a717"
      },
      "execution_count": null,
      "outputs": [
        {
          "output_type": "stream",
          "name": "stdout",
          "text": [
            "The confidence interval of the Pearson correlation coefficient is (0.4527, 0.5559).\n"
          ]
        }
      ]
    },
    {
      "cell_type": "markdown",
      "source": [
        "# <font color=\"pink\"> **Conclusion**:</font>\n",
        " The pearson coefficient (r) is between 0.4527 and 0.5559 according to the confidence interval. The calculated r is 0.506, which is between the range. This means that there is a positive direct relationship between speed attack and speed defense. The p-value is also less than 0.05, meaning we have enough evidence to reject the null hypothesis."
      ],
      "metadata": {
        "id": "P0BNGLz92VKB"
      }
    },
    {
      "cell_type": "markdown",
      "source": [
        "\n",
        "\n",
        "________\n",
        "# <font color=\"pink\"> **DATA VISUALIZED**:</font>\n"
      ],
      "metadata": {
        "id": "13sZzqsCU7Q-"
      }
    },
    {
      "cell_type": "markdown",
      "source": [
        "**1) Two Sample T-test Data**"
      ],
      "metadata": {
        "id": "Ek8MhmUZtNgZ"
      }
    },
    {
      "cell_type": "code",
      "source": [
        "# T-test for Distribution of Attack Damage in Fire Type Pokémon\n",
        "import seaborn as sns\n",
        "%matplotlib inline\n",
        "import matplotlib.pyplot as plt\n",
        "\n",
        "plot_title = f'The Distibution of Attack Damage in Fire Type Pokémon'\n",
        "sns.histplot(fire_pok['Attack'], bins = 20, color = 'red').set_title(plot_title);"
      ],
      "metadata": {
        "colab": {
          "base_uri": "https://localhost:8080/",
          "height": 295
        },
        "id": "9ClVi-yxQ6lW",
        "outputId": "5fc5ac80-2493-4056-a03a-7f5bb00beb77"
      },
      "execution_count": null,
      "outputs": [
        {
          "output_type": "display_data",
          "data": {
            "text/plain": [
              "<Figure size 432x288 with 1 Axes>"
            ],
            "image/png": "[encoded data removed]"
          },
          "metadata": {
            "needs_background": "light"
          }
        }
      ]
    },
    {
      "cell_type": "code",
      "source": [
        "# T-test for Distribution of Attack Damage in Water Type Pokémon\n",
        "import seaborn as sns\n",
        "%matplotlib inline\n",
        "import matplotlib.pyplot as plt\n",
        "\n",
        "plot_title = f'The Distibution of Attack Damage in Water Type Pokémon'\n",
        "sns.histplot(water_pok['Attack'], bins = 20, color = '#1ac6ff').set_title(plot_title);"
      ],
      "metadata": {
        "colab": {
          "base_uri": "https://localhost:8080/",
          "height": 295
        },
        "id": "sWZYciEyROU6",
        "outputId": "d41e03d2-b987-44c1-a003-26cb488ad266"
      },
      "execution_count": null,
      "outputs": [
        {
          "output_type": "display_data",
          "data": {
            "text/plain": [
              "<Figure size 432x288 with 1 Axes>"
            ],
            "image/png": "[encoded data removed]"
          },
          "metadata": {
            "needs_background": "light"
          }
        }
      ]
    },
    {
      "cell_type": "code",
      "source": [
        "# T-test Boxplot for Fire vs Water Type 1 Mean Attack Damage\n",
        "bar = [fire_pok, water_pok]\n",
        "bar_df = pd.concat(bar) # source = https://pandas.pydata.org/docs/user_guide/merging.html\n",
        "import seaborn as sns\n",
        "import matplotlib.pyplot as plt\n",
        "my_colors = [\"#ff0505\", \"#1ac6ff\"]\n",
        "sns.set_palette(my_colors)\n",
        "sns.boxplot(x=\"Type 1\", y=\"Attack\", data=bar_df).set_title(\"Attack Damage in Type 1 Fire and Water Pokémon\")\n",
        "plt.show()"
      ],
      "metadata": {
        "colab": {
          "base_uri": "https://localhost:8080/",
          "height": 295
        },
        "id": "0IFThWLtgDLT",
        "outputId": "a7809a86-d026-4f08-e71c-049e58112ca2"
      },
      "execution_count": null,
      "outputs": [
        {
          "output_type": "display_data",
          "data": {
            "text/plain": [
              "<Figure size 432x288 with 1 Axes>"
            ],
            "image/png": "[encoded data removed]"
          },
          "metadata": {
            "needs_background": "light"
          }
        }
      ]
    },
    {
      "cell_type": "markdown",
      "source": [
        "**2) One-way ANOVA**"
      ],
      "metadata": {
        "id": "I_PLD47Xxm5r"
      }
    },
    {
      "cell_type": "code",
      "source": [
        "# One-way ANOVA Distribution for Fairy, Poison, and Ghost Type 2 Mean Defense\n",
        "\n",
        "plot_title = f'The Distibution of Defense in Fairy Type Pokémon'\n",
        "sns.histplot(fairy['Defense'], bins = 20, color = 'pink').set_title(plot_title);"
      ],
      "metadata": {
        "colab": {
          "base_uri": "https://localhost:8080/",
          "height": 295
        },
        "id": "GsWdwRbDxoIx",
        "outputId": "d9826069-29db-4939-94b1-113e7d89ac31"
      },
      "execution_count": null,
      "outputs": [
        {
          "output_type": "display_data",
          "data": {
            "text/plain": [
              "<Figure size 432x288 with 1 Axes>"
            ],
            "image/png": "[encoded data removed]"
          },
          "metadata": {
            "needs_background": "light"
          }
        }
      ]
    },
    {
      "cell_type": "code",
      "source": [
        "plot_title = f'The Distibution of Defense in Poison Type Pokémon'\n",
        "sns.histplot(poison['Defense'], bins = 20, color = 'lightgreen').set_title(plot_title);"
      ],
      "metadata": {
        "colab": {
          "base_uri": "https://localhost:8080/",
          "height": 295
        },
        "id": "IsZpl7SIyGHM",
        "outputId": "2d2b85fb-8782-4fd7-c4b0-0183a9223a45"
      },
      "execution_count": null,
      "outputs": [
        {
          "output_type": "display_data",
          "data": {
            "text/plain": [
              "<Figure size 432x288 with 1 Axes>"
            ],
            "image/png": "[encoded data removed]"
          },
          "metadata": {
            "needs_background": "light"
          }
        }
      ]
    },
    {
      "cell_type": "code",
      "source": [
        "plot_title = f'The Distibution of Defense in Ghost Type Pokémon'\n",
        "sns.histplot(ghost['Defense'], bins = 20, color = 'lightgray').set_title(plot_title);"
      ],
      "metadata": {
        "colab": {
          "base_uri": "https://localhost:8080/",
          "height": 295
        },
        "id": "hnvDlfyEyLZU",
        "outputId": "352ec777-d7df-4b97-e8f4-02ff8f45ad3d"
      },
      "execution_count": null,
      "outputs": [
        {
          "output_type": "display_data",
          "data": {
            "text/plain": [
              "<Figure size 432x288 with 1 Axes>"
            ],
            "image/png": "[encoded data removed]"
          },
          "metadata": {
            "needs_background": "light"
          }
        }
      ]
    },
    {
      "cell_type": "code",
      "source": [
        "# One-way ANOVA Box plot for Fairy, Poison, and Ghost Type 2 Mean Defense\n",
        "fpg = [fairy, poison, ghost]\n",
        "fpg_df = pd.concat(fpg) # source = https://pandas.pydata.org/docs/user_guide/merging.html\n",
        "import seaborn as sns\n",
        "import matplotlib.pyplot as plt\n",
        "my_colors = [\"#ffbde7\", \"#98e495\",\"#d1d6ff\"]\n",
        "sns.set_palette(my_colors)\n",
        "sns.boxplot(x=\"Type 2\", y=\"Defense\", data=fpg_df).set_title(\"Fairy, Poison, and Ghost Type 2 Pokémon Mean Defense\")\n",
        "plt.show()"
      ],
      "metadata": {
        "colab": {
          "base_uri": "https://localhost:8080/",
          "height": 295
        },
        "id": "rKPsNzT0ySID",
        "outputId": "4c9ecae6-ab6d-4f4d-9b76-44117a800388"
      },
      "execution_count": null,
      "outputs": [
        {
          "output_type": "display_data",
          "data": {
            "text/plain": [
              "<Figure size 432x288 with 1 Axes>"
            ],
            "image/png": "[encoded data removed]"
          },
          "metadata": {
            "needs_background": "light"
          }
        }
      ]
    },
    {
      "cell_type": "markdown",
      "source": [
        "**3) Correlation**"
      ],
      "metadata": {
        "id": "bMZBKMB81cDB"
      }
    },
    {
      "cell_type": "code",
      "source": [
        "sns.lmplot(\n",
        "    data=poke_df,\n",
        "    x ='Sp. Atk',\n",
        "    y ='Sp. Def'\n",
        ").set(title=f\"Slight Positive Correlation between Speed Attack and Speed Defense for all Pokémons, r =  {round(pearson_corr, 3)}\");"
      ],
      "metadata": {
        "colab": {
          "base_uri": "https://localhost:8080/",
          "height": 385
        },
        "id": "sWIKdiUW1YNp",
        "outputId": "1c31776c-b0e5-4dbb-a7af-bd9b968d2e52"
      },
      "execution_count": null,
      "outputs": [
        {
          "output_type": "display_data",
          "data": {
            "text/plain": [
              "<Figure size 360x360 with 1 Axes>"
            ],
            "image/png": "[encoded data removed]"
          },
          "metadata": {
            "needs_background": "light"
          }
        }
      ]
    },
    {
      "cell_type": "markdown",
      "source": [
        "\n",
        "\n",
        "________\n",
        "# <font color=\"pink\"> **METHODS**:</font>\n",
        "Description of the methods used in this report are as follows: \n",
        "\n",
        "\n",
        "  * For **Two Sample T-test**, we made different dataframes (using boolean) to only show Fire and Water Types. We then performed a t-test on the two dataframes according to the mean attack damage. We then visualized the data by creating a distribution and box plot for Type 1 Water and Fire to show the difference in mean attack damage. We used the p-value and t-critical value to determine if the null was rejected or not. The Welch's test was used to determine the homogeneity of variances.\n",
        "  * For the **one-way ANOVA test**, we made three different dataframes (using boolean) to only show Type 2 Fairy, Poison, and Ghost Pokémons. We performed calculations for ANOVA (as seen in data) to determine if the defense in all three types differ. The visualization was three distribution plots and a box plot to compare the defense means.\n",
        "  * For **correlation**, we used the original dataframe to pull out speed attack and speed defense for all Pokémons. We used a scipy to determine if there was a correlation using the \"r\" value. The p-value was also calculated to see if we should reject the null. The visualization was a scatterplot with a linear line to show the correlation between the two numeric values of speed attack and speed defense.\n"
      ],
      "metadata": {
        "id": "5GDpoLXlIvRE"
      }
    },
    {
      "cell_type": "markdown",
      "source": [
        "________\n",
        "# <font color=\"pink\"> **OVERALL CONCLUSION**:</font>\n",
        "Statistical tests using python is helpful in determining if data is significant enough or not, such as for scientific hypothesis. The Pokémon analysis of a two sample t-test showed that Type 1 Fire and Water Pokémons had different mean attack damages, which Fire had a higher mean attack. One-way ANOVA showed that Type 2 Poison, Fairy, and Ghost Pokémons had the same mean defense. Correlation is an observational study that only shows an association or relationship between two numeric values. The speed attack and speed defense of Pokémons are positively correlated. Pokémon designers or developers may have made Pokémons to have the same speed for damage and defense; however, we would need an additional research to determine the truth. By using the Pokémon data for statistical tests, it serves as good practice for future hypotheses testing for our college careers, potential jobs, and research."
      ],
      "metadata": {
        "id": "vMhuzUda9XjS"
      }
    }
  ]
}